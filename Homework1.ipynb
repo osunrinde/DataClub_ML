{
 "cells": [
  {
   "cell_type": "code",
   "execution_count": 63,
   "id": "f1d44c0c",
   "metadata": {},
   "outputs": [],
   "source": [
    "import pandas as pd\n",
    "import numpy as np"
   ]
  },
  {
   "cell_type": "code",
   "execution_count": 4,
   "id": "baa1ea23",
   "metadata": {},
   "outputs": [
    {
     "data": {
      "text/plain": [
       "'1.3.5'"
      ]
     },
     "execution_count": 4,
     "metadata": {},
     "output_type": "execute_result"
    }
   ],
   "source": [
    "pd.__version__"
   ]
  },
  {
   "cell_type": "code",
   "execution_count": 40,
   "id": "0c788708",
   "metadata": {},
   "outputs": [
    {
     "data": {
      "text/html": [
       "<div>\n",
       "<style scoped>\n",
       "    .dataframe tbody tr th:only-of-type {\n",
       "        vertical-align: middle;\n",
       "    }\n",
       "\n",
       "    .dataframe tbody tr th {\n",
       "        vertical-align: top;\n",
       "    }\n",
       "\n",
       "    .dataframe thead th {\n",
       "        text-align: right;\n",
       "    }\n",
       "</style>\n",
       "<table border=\"1\" class=\"dataframe\">\n",
       "  <thead>\n",
       "    <tr style=\"text-align: right;\">\n",
       "      <th></th>\n",
       "      <th>RAM</th>\n",
       "      <th>Storage</th>\n",
       "      <th>Screen</th>\n",
       "      <th>Final Price</th>\n",
       "    </tr>\n",
       "  </thead>\n",
       "  <tbody>\n",
       "    <tr>\n",
       "      <th>count</th>\n",
       "      <td>2160.000000</td>\n",
       "      <td>2160.000000</td>\n",
       "      <td>2156.000000</td>\n",
       "      <td>2160.000000</td>\n",
       "    </tr>\n",
       "    <tr>\n",
       "      <th>mean</th>\n",
       "      <td>15.413889</td>\n",
       "      <td>596.294444</td>\n",
       "      <td>15.168112</td>\n",
       "      <td>1312.638509</td>\n",
       "    </tr>\n",
       "    <tr>\n",
       "      <th>std</th>\n",
       "      <td>9.867815</td>\n",
       "      <td>361.220506</td>\n",
       "      <td>1.203329</td>\n",
       "      <td>911.475417</td>\n",
       "    </tr>\n",
       "    <tr>\n",
       "      <th>min</th>\n",
       "      <td>4.000000</td>\n",
       "      <td>0.000000</td>\n",
       "      <td>10.100000</td>\n",
       "      <td>201.050000</td>\n",
       "    </tr>\n",
       "    <tr>\n",
       "      <th>25%</th>\n",
       "      <td>8.000000</td>\n",
       "      <td>256.000000</td>\n",
       "      <td>14.000000</td>\n",
       "      <td>661.082500</td>\n",
       "    </tr>\n",
       "    <tr>\n",
       "      <th>50%</th>\n",
       "      <td>16.000000</td>\n",
       "      <td>512.000000</td>\n",
       "      <td>15.600000</td>\n",
       "      <td>1031.945000</td>\n",
       "    </tr>\n",
       "    <tr>\n",
       "      <th>75%</th>\n",
       "      <td>16.000000</td>\n",
       "      <td>1000.000000</td>\n",
       "      <td>15.600000</td>\n",
       "      <td>1708.970000</td>\n",
       "    </tr>\n",
       "    <tr>\n",
       "      <th>max</th>\n",
       "      <td>128.000000</td>\n",
       "      <td>4000.000000</td>\n",
       "      <td>18.000000</td>\n",
       "      <td>7150.470000</td>\n",
       "    </tr>\n",
       "  </tbody>\n",
       "</table>\n",
       "</div>"
      ],
      "text/plain": [
       "               RAM      Storage       Screen  Final Price\n",
       "count  2160.000000  2160.000000  2156.000000  2160.000000\n",
       "mean     15.413889   596.294444    15.168112  1312.638509\n",
       "std       9.867815   361.220506     1.203329   911.475417\n",
       "min       4.000000     0.000000    10.100000   201.050000\n",
       "25%       8.000000   256.000000    14.000000   661.082500\n",
       "50%      16.000000   512.000000    15.600000  1031.945000\n",
       "75%      16.000000  1000.000000    15.600000  1708.970000\n",
       "max     128.000000  4000.000000    18.000000  7150.470000"
      ]
     },
     "execution_count": 40,
     "metadata": {},
     "output_type": "execute_result"
    }
   ],
   "source": [
    "data=pd.read_csv(r\"Z:\\TAIWO\\Downloads\\laptops.csv\")\n",
    "\n",
    "# Question2\n",
    "data.describe()"
   ]
  },
  {
   "cell_type": "code",
   "execution_count": 41,
   "id": "ae37f10f",
   "metadata": {},
   "outputs": [
    {
     "data": {
      "text/plain": [
       "27"
      ]
     },
     "execution_count": 41,
     "metadata": {},
     "output_type": "execute_result"
    }
   ],
   "source": [
    "#Question 3\n",
    "len(data['Brand'].unique())"
   ]
  },
  {
   "cell_type": "code",
   "execution_count": 42,
   "id": "3caccbfb",
   "metadata": {},
   "outputs": [
    {
     "data": {
      "text/plain": [
       "['Storage type', 'GPU', 'Screen']"
      ]
     },
     "execution_count": 42,
     "metadata": {},
     "output_type": "execute_result"
    }
   ],
   "source": [
    "#question 4\n",
    "data.columns[data.isnull().any()].tolist()"
   ]
  },
  {
   "cell_type": "code",
   "execution_count": 43,
   "id": "0228be88",
   "metadata": {},
   "outputs": [
    {
     "data": {
      "text/plain": [
       "3936.0"
      ]
     },
     "execution_count": 43,
     "metadata": {},
     "output_type": "execute_result"
    }
   ],
   "source": [
    "#question5\n",
    "data[data['Brand']=='Dell']['Final Price'].max()"
   ]
  },
  {
   "cell_type": "code",
   "execution_count": 44,
   "id": "437731e0",
   "metadata": {},
   "outputs": [
    {
     "data": {
      "text/plain": [
       "15.6"
      ]
     },
     "execution_count": 44,
     "metadata": {},
     "output_type": "execute_result"
    }
   ],
   "source": [
    "#question6 (a)\n",
    "median_with_na=data['Screen'].median()\n",
    "median_with_na"
   ]
  },
  {
   "cell_type": "code",
   "execution_count": 45,
   "id": "85fcef9b",
   "metadata": {},
   "outputs": [
    {
     "data": {
      "text/plain": [
       "0    15.6\n",
       "dtype: float64"
      ]
     },
     "execution_count": 45,
     "metadata": {},
     "output_type": "execute_result"
    }
   ],
   "source": [
    "#question6 (b)\n",
    "mode_with_na=data['Screen'].mode()\n",
    "mode_with_na"
   ]
  },
  {
   "cell_type": "code",
   "execution_count": 47,
   "id": "f7e8e564",
   "metadata": {},
   "outputs": [
    {
     "data": {
      "text/plain": [
       "15.6"
      ]
     },
     "execution_count": 47,
     "metadata": {},
     "output_type": "execute_result"
    }
   ],
   "source": [
    "#question6 (c)\n",
    "data['Screen']=data['Screen'].fillna(15.6)\n",
    "median_with_fill=data['Screen'].median()\n",
    "median_with_fill"
   ]
  },
  {
   "cell_type": "code",
   "execution_count": 76,
   "id": "0c89ad87",
   "metadata": {},
   "outputs": [
    {
     "data": {
      "text/plain": [
       "91.29988062995814"
      ]
     },
     "execution_count": 76,
     "metadata": {},
     "output_type": "execute_result"
    }
   ],
   "source": [
    "#question7\n",
    "#data selection\n",
    "innjoo_lap=data[data['Brand']=='Innjoo']\n",
    "#selecting columns of interest\n",
    "innjoo_lap_df=innjoo_lap[['RAM', 'Storage', 'Screen']]\n",
    "#convert to numpy array\n",
    "X=innjoo_lap_df.to_numpy()\n",
    "#dot multiplication\n",
    "XTX=np.dot(X.T, X)\n",
    "XTX_inverse=np.linalg.inv(XTX)\n",
    "y=np.array([1100, 1300, 800, 900, 1000, 1100])\n",
    "\n",
    "#Multiply the inverse of XTX with the transpose of X, and then multiply the result by y\n",
    "\n",
    "w=np.dot(XTX_inverse, X.T)*y\n",
    "w.sum()"
   ]
  },
  {
   "cell_type": "code",
   "execution_count": null,
   "id": "c7c25c00",
   "metadata": {},
   "outputs": [],
   "source": []
  }
 ],
 "metadata": {
  "kernelspec": {
   "display_name": "Python 3 (ipykernel)",
   "language": "python",
   "name": "python3"
  },
  "language_info": {
   "codemirror_mode": {
    "name": "ipython",
    "version": 3
   },
   "file_extension": ".py",
   "mimetype": "text/x-python",
   "name": "python",
   "nbconvert_exporter": "python",
   "pygments_lexer": "ipython3",
   "version": "3.10.14"
  }
 },
 "nbformat": 4,
 "nbformat_minor": 5
}
